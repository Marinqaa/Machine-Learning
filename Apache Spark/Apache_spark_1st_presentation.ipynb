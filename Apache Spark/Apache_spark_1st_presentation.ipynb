{
 "cells": [
  {
   "cell_type": "markdown",
   "id": "7db2891b",
   "metadata": {},
   "source": [
    "### Setting up libraries"
   ]
  },
  {
   "cell_type": "code",
   "execution_count": 1,
   "id": "8fab6baf",
   "metadata": {},
   "outputs": [
    {
     "name": "stdout",
     "output_type": "stream",
     "text": [
      "Requirement already satisfied: pyspark in c:\\users\\nurma\\anaconda3\\lib\\site-packages (3.5.1)\n",
      "Requirement already satisfied: py4j==0.10.9.7 in c:\\users\\nurma\\anaconda3\\lib\\site-packages (from pyspark) (0.10.9.7)\n",
      "Note: you may need to restart the kernel to use updated packages.\n"
     ]
    }
   ],
   "source": [
    "pip install pyspark"
   ]
  },
  {
   "cell_type": "code",
   "execution_count": 2,
   "id": "d8a47d50",
   "metadata": {},
   "outputs": [
    {
     "name": "stdout",
     "output_type": "stream",
     "text": [
      "Requirement already satisfied: scikit-learn in c:\\users\\nurma\\anaconda3\\lib\\site-packages (1.4.1.post1)\n",
      "Requirement already satisfied: joblib>=1.2.0 in c:\\users\\nurma\\anaconda3\\lib\\site-packages (from scikit-learn) (1.3.2)\n",
      "Requirement already satisfied: threadpoolctl>=2.0.0 in c:\\users\\nurma\\anaconda3\\lib\\site-packages (from scikit-learn) (2.2.0)\n",
      "Requirement already satisfied: numpy<2.0,>=1.19.5 in c:\\users\\nurma\\anaconda3\\lib\\site-packages (from scikit-learn) (1.21.5)\n",
      "Requirement already satisfied: scipy>=1.6.0 in c:\\users\\nurma\\anaconda3\\lib\\site-packages (from scikit-learn) (1.7.3)\n",
      "Note: you may need to restart the kernel to use updated packages.\n"
     ]
    }
   ],
   "source": [
    "pip install scikit-learn"
   ]
  },
  {
   "cell_type": "code",
   "execution_count": 8,
   "id": "ab5b2c7f",
   "metadata": {},
   "outputs": [],
   "source": [
    "import pandas as pd\n",
    "\n",
    "dataset_path = 'C:/Users/nurma/Downloads/dataset_salary/Salary_Data.csv' # Define the target variable (dependent variable)\n",
    "\n",
    "target_variable = \"Salary\""
   ]
  },
  {
   "cell_type": "code",
   "execution_count": 13,
   "id": "73422f4b",
   "metadata": {
    "scrolled": true
   },
   "outputs": [
    {
     "data": {
      "text/html": [
       "<div>\n",
       "<style scoped>\n",
       "    .dataframe tbody tr th:only-of-type {\n",
       "        vertical-align: middle;\n",
       "    }\n",
       "\n",
       "    .dataframe tbody tr th {\n",
       "        vertical-align: top;\n",
       "    }\n",
       "\n",
       "    .dataframe thead th {\n",
       "        text-align: right;\n",
       "    }\n",
       "</style>\n",
       "<table border=\"1\" class=\"dataframe\">\n",
       "  <thead>\n",
       "    <tr style=\"text-align: right;\">\n",
       "      <th></th>\n",
       "      <th>Age</th>\n",
       "      <th>Gender</th>\n",
       "      <th>Education Level</th>\n",
       "      <th>Job Title</th>\n",
       "      <th>Years of Experience</th>\n",
       "      <th>Salary</th>\n",
       "    </tr>\n",
       "  </thead>\n",
       "  <tbody>\n",
       "    <tr>\n",
       "      <th>0</th>\n",
       "      <td>32.0</td>\n",
       "      <td>Male</td>\n",
       "      <td>Bachelor's</td>\n",
       "      <td>Software Engineer</td>\n",
       "      <td>5.0</td>\n",
       "      <td>90000.0</td>\n",
       "    </tr>\n",
       "    <tr>\n",
       "      <th>1</th>\n",
       "      <td>28.0</td>\n",
       "      <td>Female</td>\n",
       "      <td>Master's</td>\n",
       "      <td>Data Analyst</td>\n",
       "      <td>3.0</td>\n",
       "      <td>65000.0</td>\n",
       "    </tr>\n",
       "    <tr>\n",
       "      <th>2</th>\n",
       "      <td>45.0</td>\n",
       "      <td>Male</td>\n",
       "      <td>PhD</td>\n",
       "      <td>Senior Manager</td>\n",
       "      <td>15.0</td>\n",
       "      <td>150000.0</td>\n",
       "    </tr>\n",
       "    <tr>\n",
       "      <th>3</th>\n",
       "      <td>36.0</td>\n",
       "      <td>Female</td>\n",
       "      <td>Bachelor's</td>\n",
       "      <td>Sales Associate</td>\n",
       "      <td>7.0</td>\n",
       "      <td>60000.0</td>\n",
       "    </tr>\n",
       "    <tr>\n",
       "      <th>4</th>\n",
       "      <td>52.0</td>\n",
       "      <td>Male</td>\n",
       "      <td>Master's</td>\n",
       "      <td>Director</td>\n",
       "      <td>20.0</td>\n",
       "      <td>200000.0</td>\n",
       "    </tr>\n",
       "  </tbody>\n",
       "</table>\n",
       "</div>"
      ],
      "text/plain": [
       "    Age  Gender Education Level          Job Title  Years of Experience  \\\n",
       "0  32.0    Male      Bachelor's  Software Engineer                  5.0   \n",
       "1  28.0  Female        Master's       Data Analyst                  3.0   \n",
       "2  45.0    Male             PhD     Senior Manager                 15.0   \n",
       "3  36.0  Female      Bachelor's    Sales Associate                  7.0   \n",
       "4  52.0    Male        Master's           Director                 20.0   \n",
       "\n",
       "     Salary  \n",
       "0   90000.0  \n",
       "1   65000.0  \n",
       "2  150000.0  \n",
       "3   60000.0  \n",
       "4  200000.0  "
      ]
     },
     "execution_count": 13,
     "metadata": {},
     "output_type": "execute_result"
    }
   ],
   "source": [
    "df = pd.read_csv(dataset_path)\n",
    "\n",
    "df.head()"
   ]
  },
  {
   "cell_type": "code",
   "execution_count": 14,
   "id": "2d310d44",
   "metadata": {},
   "outputs": [
    {
     "name": "stdout",
     "output_type": "stream",
     "text": [
      "Shape of the DataFrame: (375, 6)\n"
     ]
    }
   ],
   "source": [
    "print(\"Shape of the DataFrame:\", df.shape)"
   ]
  },
  {
   "cell_type": "code",
   "execution_count": 15,
   "id": "b012186c",
   "metadata": {},
   "outputs": [
    {
     "name": "stdout",
     "output_type": "stream",
     "text": [
      "Data types of columns:\n",
      "Age                    float64\n",
      "Gender                  object\n",
      "Education Level         object\n",
      "Job Title               object\n",
      "Years of Experience    float64\n",
      "Salary                 float64\n",
      "dtype: object\n"
     ]
    }
   ],
   "source": [
    "print(\"Data types of columns:\")\n",
    "print(df.dtypes)"
   ]
  },
  {
   "cell_type": "code",
   "execution_count": 16,
   "id": "ccd6de70",
   "metadata": {},
   "outputs": [
    {
     "name": "stdout",
     "output_type": "stream",
     "text": [
      "Summary statistics:\n",
      "              Age  Years of Experience         Salary\n",
      "count  373.000000           373.000000     373.000000\n",
      "mean    37.431635            10.030831  100577.345845\n",
      "std      7.069073             6.557007   48240.013482\n",
      "min     23.000000             0.000000     350.000000\n",
      "25%     31.000000             4.000000   55000.000000\n",
      "50%     36.000000             9.000000   95000.000000\n",
      "75%     44.000000            15.000000  140000.000000\n",
      "max     53.000000            25.000000  250000.000000\n"
     ]
    }
   ],
   "source": [
    "print(\"Summary statistics:\")\n",
    "print(df.describe())"
   ]
  },
  {
   "cell_type": "markdown",
   "id": "8cee3e5a",
   "metadata": {},
   "source": [
    "### basic data preprocessing steps:\n",
    "- handling missing values"
   ]
  },
  {
   "cell_type": "code",
   "execution_count": 17,
   "id": "61e56dc4",
   "metadata": {},
   "outputs": [
    {
     "name": "stdout",
     "output_type": "stream",
     "text": [
      "Age                    2\n",
      "Gender                 2\n",
      "Education Level        2\n",
      "Job Title              2\n",
      "Years of Experience    2\n",
      "Salary                 2\n",
      "dtype: int64\n"
     ]
    }
   ],
   "source": [
    "print(df.isnull().sum())"
   ]
  },
  {
   "cell_type": "code",
   "execution_count": 18,
   "id": "85e2f61e",
   "metadata": {},
   "outputs": [],
   "source": [
    "from sklearn.impute import SimpleImputer"
   ]
  },
  {
   "cell_type": "code",
   "execution_count": 19,
   "id": "6867b93d",
   "metadata": {},
   "outputs": [],
   "source": [
    "imputer = SimpleImputer(strategy='most_frequent')\n",
    "df['Education Level'] = imputer.fit_transform(df[['Education Level']])\n",
    "df['Gender'] = imputer.fit_transform(df[['Gender']])\n",
    "df['Job Title'] = imputer.fit_transform(df[['Job Title']])"
   ]
  },
  {
   "cell_type": "code",
   "execution_count": 20,
   "id": "8e7ca7a8",
   "metadata": {},
   "outputs": [],
   "source": [
    "imputer = SimpleImputer(strategy='mean')\n",
    "df['Salary'] = imputer.fit_transform(df[['Salary']])\n",
    "df['Age'] = imputer.fit_transform(df[['Age']])\n",
    "df['Years of Experience'] = imputer.fit_transform(df[['Years of Experience']])"
   ]
  },
  {
   "cell_type": "code",
   "execution_count": 21,
   "id": "ec313378",
   "metadata": {},
   "outputs": [
    {
     "name": "stdout",
     "output_type": "stream",
     "text": [
      "Age                    0\n",
      "Gender                 0\n",
      "Education Level        0\n",
      "Job Title              0\n",
      "Years of Experience    0\n",
      "Salary                 0\n",
      "dtype: int64\n"
     ]
    }
   ],
   "source": [
    "print(df.isnull().sum())"
   ]
  },
  {
   "cell_type": "markdown",
   "id": "817c5cfd",
   "metadata": {},
   "source": [
    " - encoding categorical variables"
   ]
  },
  {
   "cell_type": "code",
   "execution_count": 22,
   "id": "fb9d65d9",
   "metadata": {},
   "outputs": [],
   "source": [
    "from sklearn.preprocessing import LabelEncoder\n",
    "\n",
    "label_encoder = LabelEncoder()\n",
    "\n",
    "df['Edu_Level_Encoded'] = label_encoder.fit_transform(df['Education Level'])\n",
    "df['Job_Title_Encoded'] = label_encoder.fit_transform(df['Job Title'])\n",
    "df['Gender_Encoded'] = label_encoder.fit_transform(df['Gender'])"
   ]
  },
  {
   "cell_type": "code",
   "execution_count": 23,
   "id": "f2dd7216",
   "metadata": {},
   "outputs": [
    {
     "data": {
      "text/html": [
       "<div>\n",
       "<style scoped>\n",
       "    .dataframe tbody tr th:only-of-type {\n",
       "        vertical-align: middle;\n",
       "    }\n",
       "\n",
       "    .dataframe tbody tr th {\n",
       "        vertical-align: top;\n",
       "    }\n",
       "\n",
       "    .dataframe thead th {\n",
       "        text-align: right;\n",
       "    }\n",
       "</style>\n",
       "<table border=\"1\" class=\"dataframe\">\n",
       "  <thead>\n",
       "    <tr style=\"text-align: right;\">\n",
       "      <th></th>\n",
       "      <th>Age</th>\n",
       "      <th>Gender</th>\n",
       "      <th>Education Level</th>\n",
       "      <th>Job Title</th>\n",
       "      <th>Years of Experience</th>\n",
       "      <th>Salary</th>\n",
       "      <th>Edu_Level_Encoded</th>\n",
       "      <th>Job_Title_Encoded</th>\n",
       "      <th>Gender_Encoded</th>\n",
       "    </tr>\n",
       "  </thead>\n",
       "  <tbody>\n",
       "    <tr>\n",
       "      <th>0</th>\n",
       "      <td>32.0</td>\n",
       "      <td>Male</td>\n",
       "      <td>Bachelor's</td>\n",
       "      <td>Software Engineer</td>\n",
       "      <td>5.0</td>\n",
       "      <td>90000.0</td>\n",
       "      <td>0</td>\n",
       "      <td>159</td>\n",
       "      <td>1</td>\n",
       "    </tr>\n",
       "    <tr>\n",
       "      <th>1</th>\n",
       "      <td>28.0</td>\n",
       "      <td>Female</td>\n",
       "      <td>Master's</td>\n",
       "      <td>Data Analyst</td>\n",
       "      <td>3.0</td>\n",
       "      <td>65000.0</td>\n",
       "      <td>1</td>\n",
       "      <td>17</td>\n",
       "      <td>0</td>\n",
       "    </tr>\n",
       "    <tr>\n",
       "      <th>2</th>\n",
       "      <td>45.0</td>\n",
       "      <td>Male</td>\n",
       "      <td>PhD</td>\n",
       "      <td>Senior Manager</td>\n",
       "      <td>15.0</td>\n",
       "      <td>150000.0</td>\n",
       "      <td>2</td>\n",
       "      <td>130</td>\n",
       "      <td>1</td>\n",
       "    </tr>\n",
       "    <tr>\n",
       "      <th>3</th>\n",
       "      <td>36.0</td>\n",
       "      <td>Female</td>\n",
       "      <td>Bachelor's</td>\n",
       "      <td>Sales Associate</td>\n",
       "      <td>7.0</td>\n",
       "      <td>60000.0</td>\n",
       "      <td>0</td>\n",
       "      <td>101</td>\n",
       "      <td>0</td>\n",
       "    </tr>\n",
       "    <tr>\n",
       "      <th>4</th>\n",
       "      <td>52.0</td>\n",
       "      <td>Male</td>\n",
       "      <td>Master's</td>\n",
       "      <td>Director</td>\n",
       "      <td>20.0</td>\n",
       "      <td>200000.0</td>\n",
       "      <td>1</td>\n",
       "      <td>22</td>\n",
       "      <td>1</td>\n",
       "    </tr>\n",
       "  </tbody>\n",
       "</table>\n",
       "</div>"
      ],
      "text/plain": [
       "    Age  Gender Education Level          Job Title  Years of Experience  \\\n",
       "0  32.0    Male      Bachelor's  Software Engineer                  5.0   \n",
       "1  28.0  Female        Master's       Data Analyst                  3.0   \n",
       "2  45.0    Male             PhD     Senior Manager                 15.0   \n",
       "3  36.0  Female      Bachelor's    Sales Associate                  7.0   \n",
       "4  52.0    Male        Master's           Director                 20.0   \n",
       "\n",
       "     Salary  Edu_Level_Encoded  Job_Title_Encoded  Gender_Encoded  \n",
       "0   90000.0                  0                159               1  \n",
       "1   65000.0                  1                 17               0  \n",
       "2  150000.0                  2                130               1  \n",
       "3   60000.0                  0                101               0  \n",
       "4  200000.0                  1                 22               1  "
      ]
     },
     "execution_count": 23,
     "metadata": {},
     "output_type": "execute_result"
    }
   ],
   "source": [
    "df.head()"
   ]
  },
  {
   "cell_type": "code",
   "execution_count": 24,
   "id": "bd593051",
   "metadata": {},
   "outputs": [],
   "source": [
    "df.drop(['Job Title', 'Education Level', 'Gender'], axis=1, inplace=True)"
   ]
  },
  {
   "cell_type": "code",
   "execution_count": 25,
   "id": "db281afe",
   "metadata": {},
   "outputs": [
    {
     "data": {
      "text/html": [
       "<div>\n",
       "<style scoped>\n",
       "    .dataframe tbody tr th:only-of-type {\n",
       "        vertical-align: middle;\n",
       "    }\n",
       "\n",
       "    .dataframe tbody tr th {\n",
       "        vertical-align: top;\n",
       "    }\n",
       "\n",
       "    .dataframe thead th {\n",
       "        text-align: right;\n",
       "    }\n",
       "</style>\n",
       "<table border=\"1\" class=\"dataframe\">\n",
       "  <thead>\n",
       "    <tr style=\"text-align: right;\">\n",
       "      <th></th>\n",
       "      <th>Age</th>\n",
       "      <th>Years of Experience</th>\n",
       "      <th>Salary</th>\n",
       "      <th>Edu_Level_Encoded</th>\n",
       "      <th>Job_Title_Encoded</th>\n",
       "      <th>Gender_Encoded</th>\n",
       "    </tr>\n",
       "  </thead>\n",
       "  <tbody>\n",
       "    <tr>\n",
       "      <th>0</th>\n",
       "      <td>32.0</td>\n",
       "      <td>5.0</td>\n",
       "      <td>90000.0</td>\n",
       "      <td>0</td>\n",
       "      <td>159</td>\n",
       "      <td>1</td>\n",
       "    </tr>\n",
       "    <tr>\n",
       "      <th>1</th>\n",
       "      <td>28.0</td>\n",
       "      <td>3.0</td>\n",
       "      <td>65000.0</td>\n",
       "      <td>1</td>\n",
       "      <td>17</td>\n",
       "      <td>0</td>\n",
       "    </tr>\n",
       "    <tr>\n",
       "      <th>2</th>\n",
       "      <td>45.0</td>\n",
       "      <td>15.0</td>\n",
       "      <td>150000.0</td>\n",
       "      <td>2</td>\n",
       "      <td>130</td>\n",
       "      <td>1</td>\n",
       "    </tr>\n",
       "    <tr>\n",
       "      <th>3</th>\n",
       "      <td>36.0</td>\n",
       "      <td>7.0</td>\n",
       "      <td>60000.0</td>\n",
       "      <td>0</td>\n",
       "      <td>101</td>\n",
       "      <td>0</td>\n",
       "    </tr>\n",
       "    <tr>\n",
       "      <th>4</th>\n",
       "      <td>52.0</td>\n",
       "      <td>20.0</td>\n",
       "      <td>200000.0</td>\n",
       "      <td>1</td>\n",
       "      <td>22</td>\n",
       "      <td>1</td>\n",
       "    </tr>\n",
       "  </tbody>\n",
       "</table>\n",
       "</div>"
      ],
      "text/plain": [
       "    Age  Years of Experience    Salary  Edu_Level_Encoded  Job_Title_Encoded  \\\n",
       "0  32.0                  5.0   90000.0                  0                159   \n",
       "1  28.0                  3.0   65000.0                  1                 17   \n",
       "2  45.0                 15.0  150000.0                  2                130   \n",
       "3  36.0                  7.0   60000.0                  0                101   \n",
       "4  52.0                 20.0  200000.0                  1                 22   \n",
       "\n",
       "   Gender_Encoded  \n",
       "0               1  \n",
       "1               0  \n",
       "2               1  \n",
       "3               0  \n",
       "4               1  "
      ]
     },
     "execution_count": 25,
     "metadata": {},
     "output_type": "execute_result"
    }
   ],
   "source": [
    "df.head()"
   ]
  },
  {
   "cell_type": "markdown",
   "id": "80f9d1c8",
   "metadata": {},
   "source": [
    "### Linear Regression model:\n",
    "- Define the target variable (dependent) and features (independent var).\n"
   ]
  },
  {
   "cell_type": "code",
   "execution_count": 27,
   "id": "33161649",
   "metadata": {},
   "outputs": [],
   "source": [
    "# Define the target variable (dependent variable)\n",
    "target_variable = \"Salary\""
   ]
  },
  {
   "cell_type": "code",
   "execution_count": 28,
   "id": "c98e6f01",
   "metadata": {},
   "outputs": [],
   "source": [
    "features = df.drop(columns=[target_variable])"
   ]
  },
  {
   "cell_type": "code",
   "execution_count": 29,
   "id": "9d619224",
   "metadata": {},
   "outputs": [
    {
     "name": "stdout",
     "output_type": "stream",
     "text": [
      "Features (Independent Variables):\n",
      "['Age', 'Years of Experience', 'Edu_Level_Encoded', 'Job_Title_Encoded', 'Gender_Encoded']\n"
     ]
    }
   ],
   "source": [
    "print(\"Features (Independent Variables):\")\n",
    "print(features.columns.tolist())"
   ]
  },
  {
   "cell_type": "code",
   "execution_count": 30,
   "id": "97a40ea4",
   "metadata": {},
   "outputs": [
    {
     "name": "stdout",
     "output_type": "stream",
     "text": [
      "\n",
      "Target Variable (Dependent Variable):\n",
      "Salary\n"
     ]
    }
   ],
   "source": [
    "print(\"\\nTarget Variable (Dependent Variable):\")\n",
    "print(target_variable)"
   ]
  },
  {
   "cell_type": "markdown",
   "id": "3b03bfa8",
   "metadata": {},
   "source": [
    "- Split the data into train and test sets"
   ]
  },
  {
   "cell_type": "code",
   "execution_count": 31,
   "id": "f2387a85",
   "metadata": {},
   "outputs": [],
   "source": [
    "from sklearn.model_selection import train_test_split\n",
    "#We specify test_size=0.2 to allocate 20% of the data for testing.\n",
    "#We ensure that target is used as the actual target variable data, not just the target variable name."
   ]
  },
  {
   "cell_type": "code",
   "execution_count": 32,
   "id": "3d856912",
   "metadata": {},
   "outputs": [],
   "source": [
    "target_data = df[target_variable]\n",
    "\n",
    "X_train, X_test, y_train, y_test = train_test_split(features, target_data, test_size=0.2, random_state=42)"
   ]
  },
  {
   "cell_type": "code",
   "execution_count": 33,
   "id": "55e9d616",
   "metadata": {},
   "outputs": [
    {
     "name": "stdout",
     "output_type": "stream",
     "text": [
      "Training set shape: (300, 5) (300,)\n",
      "Testing set shape: (75, 5) (75,)\n"
     ]
    }
   ],
   "source": [
    "print(\"Training set shape:\", X_train.shape, y_train.shape)\n",
    "print(\"Testing set shape:\", X_test.shape, y_test.shape)"
   ]
  },
  {
   "cell_type": "markdown",
   "id": "a72a9db3",
   "metadata": {},
   "source": [
    "- Obtaining predicted salaries for each sample in the test set"
   ]
  },
  {
   "cell_type": "code",
   "execution_count": 34,
   "id": "a94bc887",
   "metadata": {},
   "outputs": [],
   "source": [
    "from sklearn.metrics import accuracy_score, classification_report\n",
    "from sklearn.linear_model import LinearRegression\n"
   ]
  },
  {
   "cell_type": "code",
   "execution_count": 35,
   "id": "19eb4e3f",
   "metadata": {},
   "outputs": [],
   "source": [
    "model = LinearRegression() #creating the instance of the class\n",
    "model.fit(X_train, y_train)\n",
    "\n",
    "# Predict\n",
    "y_pred = model.predict(X_test)"
   ]
  },
  {
   "cell_type": "code",
   "execution_count": 36,
   "id": "8d62c3e9",
   "metadata": {},
   "outputs": [
    {
     "name": "stdout",
     "output_type": "stream",
     "text": [
      "[175073.09678309  93527.75743975 131620.78958975  83848.04061716\n",
      " 161386.56496072 187378.26223032 157835.93101579 104583.28976823\n",
      "  57557.54791633 100888.38309519 142294.93097737 160308.34081257\n",
      "  51264.3392103   89389.51800957  63302.88489979 162564.94675997\n",
      "  69030.12760519  48204.49857362  79425.05812696  98333.58572184\n",
      " 130167.0106661  108010.38643028 165361.53334534  61260.94574217\n",
      "  88051.98535241  48709.29105942 178092.79846658  93627.78541567\n",
      " 156939.37616243 147468.14708569  43298.06304813 125996.67384324\n",
      "  54878.36241436 152611.59411021  91004.80668156  16953.70808122\n",
      " 183859.17486645  51068.67073796  37729.97120065  59019.21792458\n",
      "  44259.73695862  88397.45233495 168755.93895859 164542.64187563\n",
      "  43088.34220458 156382.15209214 123217.88150182  53142.20573319\n",
      "  49093.89173644  35340.19975798 103076.04983193  80573.65857946\n",
      "  77265.71788594 103904.59368346 163168.59160404  65942.93670728\n",
      " 188021.36982718  77309.22254558  46895.41780095  85963.87619855\n",
      " 119063.60271282 139335.37338055 159704.11613265  62807.87018457\n",
      "  41110.94712302  48997.53006944  57283.61205504 128775.71696219\n",
      "  44259.73695862  31970.91090431  70758.41737119 104456.8363712\n",
      " 155012.47278572 153746.47124982  87458.24366769]\n"
     ]
    }
   ],
   "source": [
    "print(y_pred)"
   ]
  },
  {
   "cell_type": "markdown",
   "id": "3035449e",
   "metadata": {},
   "source": [
    "- Obtaining the coefficients \n",
    "\n",
    "They indicate the magnitude and direction of the relationship between each feature and the impact on the target "
   ]
  },
  {
   "cell_type": "code",
   "execution_count": 37,
   "id": "9fa8f6ca",
   "metadata": {},
   "outputs": [
    {
     "name": "stdout",
     "output_type": "stream",
     "text": [
      "Coefficients: [ 3422.72569688  2205.21020317 14963.34055701    39.13369447\n",
      "  7552.47397425]\n",
      "Intercept: -65297.877105749634\n"
     ]
    }
   ],
   "source": [
    "coefficients = model.coef_\n",
    "intercept = model.intercept_\n",
    "\n",
    "print(\"Coefficients:\", coefficients)\n",
    "print(\"Intercept:\", intercept)\n"
   ]
  },
  {
   "cell_type": "markdown",
   "id": "b0fd4a26",
   "metadata": {},
   "source": [
    "- Calculationg performance Metrics\n",
    "\n",
    "> Mean Squared Error (MSE): Measures the average squared difference between the predicted values and the actual values.\n",
    "\n",
    "> Root Mean Squared Error (RMSE): The square root of the MSE, which provides a more interpretable measure of the error.\n",
    "\n",
    "> R-squared (R²): Indicates the proportion of the variance in the dependent variable that is predictable from the independent variables. Higher values indicate better fit.\n",
    "\n",
    "> Mean Absolute Error (MAE): Measures the average absolute difference between the predicted values and the actual values."
   ]
  },
  {
   "cell_type": "code",
   "execution_count": 38,
   "id": "36b14141",
   "metadata": {},
   "outputs": [],
   "source": [
    "from sklearn.metrics import mean_squared_error, r2_score, mean_absolute_error\n",
    "import numpy as np"
   ]
  },
  {
   "cell_type": "code",
   "execution_count": 39,
   "id": "82c10ec8",
   "metadata": {},
   "outputs": [
    {
     "name": "stdout",
     "output_type": "stream",
     "text": [
      "Mean Squared Error: 246873399.55119023\n",
      "Root Mean Squared Error: 15712.205432439783\n",
      "R-squared (R²) score: 0.8980913648766511\n",
      "Mean Absolute Error (MAE): 10744.500972240936\n"
     ]
    }
   ],
   "source": [
    "mse = mean_squared_error(y_test, y_pred)\n",
    "print(\"Mean Squared Error:\", mse)\n",
    "\n",
    "rmse = np.sqrt(mse)\n",
    "print(\"Root Mean Squared Error:\", rmse)\n",
    "\n",
    "r2 = r2_score(y_test, y_pred)\n",
    "print(\"R-squared (R²) score:\", r2)\n",
    "\n",
    "mae = mean_absolute_error(y_test, y_pred)\n",
    "print(\"Mean Absolute Error (MAE):\", mae)"
   ]
  },
  {
   "cell_type": "markdown",
   "id": "1da26a88",
   "metadata": {},
   "source": [
    "- Creating the prediction plot\n",
    "\n",
    "> Ideally, the points should form a diagonal line, indicating perfect predictions. Deviation from this line suggests model inaccuracies."
   ]
  },
  {
   "cell_type": "code",
   "execution_count": 40,
   "id": "ff8257c4",
   "metadata": {},
   "outputs": [],
   "source": [
    "import matplotlib.pyplot as plt"
   ]
  },
  {
   "cell_type": "code",
   "execution_count": 41,
   "id": "19a4be8f",
   "metadata": {},
   "outputs": [
    {
     "data": {
      "image/png": "[encoded data removed]",
      "text/plain": [
       "<Figure size 432x288 with 1 Axes>"
      ]
     },
     "metadata": {
      "needs_background": "light"
     },
     "output_type": "display_data"
    }
   ],
   "source": [
    "plt.scatter(y_test, y_pred)\n",
    "plt.xlabel(\"Actual Salary\")\n",
    "plt.ylabel(\"Predicted Salary\")\n",
    "plt.title(\"Actual vs Predicted Salary\")\n",
    "plt.show()"
   ]
  },
  {
   "cell_type": "markdown",
   "id": "5fe47459",
   "metadata": {},
   "source": [
    "- Creating the plot of Residuals:\n",
    "\n",
    "> Residuals are the differences between the actual and predicted values. \n",
    "\n",
    "> Ideally, residuals should be randomly distributed around zero, indicating that the model is making unbiased predictions. Patterns or trends in the residuals may indicate issues with the model, such as heteroscedasticity or systematic bias."
   ]
  },
  {
   "cell_type": "code",
   "execution_count": 42,
   "id": "903ea1bd",
   "metadata": {},
   "outputs": [
    {
     "data": {
      "image/png": "[encoded data removed]",
      "text/plain": [
       "<Figure size 432x288 with 1 Axes>"
      ]
     },
     "metadata": {
      "needs_background": "light"
     },
     "output_type": "display_data"
    }
   ],
   "source": [
    "residuals = y_test - y_pred\n",
    "plt.scatter(y_test, residuals)\n",
    "plt.xlabel('Actual Values')\n",
    "plt.ylabel('Residuals')\n",
    "plt.title('Residual Analysis')\n",
    "plt.axhline(y=0, color='r', linestyle='-')\n",
    "plt.show()"
   ]
  },
  {
   "cell_type": "markdown",
   "id": "42210b9f",
   "metadata": {},
   "source": [
    "- Creating bar plot: feature importances\n",
    "\n",
    "> The x-axis represents the importance of each feature.\n",
    "\n",
    "> The y-axis represents the features themselves.\n",
    "\n",
    "> Each bar represents the importance of a particular feature. The taller the bar, the more important the feature is in predicting the salary.\n",
    "\n",
    "> Features with higher importance are more influential in the model's decision-making process. This information can be valuable for feature selection, model interpretation."
   ]
  },
  {
   "cell_type": "code",
   "execution_count": 43,
   "id": "cf95e08f",
   "metadata": {},
   "outputs": [],
   "source": [
    "feature_names = features.columns\n",
    "\n",
    "importance = model.coef_"
   ]
  },
  {
   "cell_type": "code",
   "execution_count": 44,
   "id": "62374c48",
   "metadata": {},
   "outputs": [
    {
     "data": {
      "image/png": "[encoded data removed]",
      "text/plain": [
       "<Figure size 720x432 with 1 Axes>"
      ]
     },
     "metadata": {
      "needs_background": "light"
     },
     "output_type": "display_data"
    }
   ],
   "source": [
    "# Reverse the order of coefficients and feature names\n",
    "importance_reverse = importance[::-1]\n",
    "feature_names_reverse = feature_names[::-1]\n",
    "\n",
    "# Plot feature importances\n",
    "plt.figure(figsize=(10, 6))\n",
    "plt.bar(feature_names_reverse, importance_reverse)\n",
    "plt.xlabel('Feature')\n",
    "plt.ylabel('Coefficient Magnitude')\n",
    "plt.title('Feature Importances')\n",
    "plt.xticks(rotation=90)\n",
    "plt.show()"
   ]
  },
  {
   "cell_type": "markdown",
   "id": "ad60eff8",
   "metadata": {},
   "source": [
    "### hyperparameter tuning and cross- validation usage with linear regression\n",
    "\n",
    "the best hyperparameters and the best model found during grid search"
   ]
  },
  {
   "cell_type": "code",
   "execution_count": 45,
   "id": "892483c4",
   "metadata": {
    "scrolled": false
   },
   "outputs": [],
   "source": [
    "X = df.drop('Salary', axis=1)\n",
    "y = df['Salary']"
   ]
  },
  {
   "cell_type": "code",
   "execution_count": 46,
   "id": "955625fa",
   "metadata": {},
   "outputs": [],
   "source": [
    "# hyperparameters grid\n",
    "param_grid = {\n",
    "    'fit_intercept': [True, False]  # Whether to fit an intercept or not\n",
    "}"
   ]
  },
  {
   "cell_type": "code",
   "execution_count": 47,
   "id": "f000faca",
   "metadata": {},
   "outputs": [
    {
     "name": "stdout",
     "output_type": "stream",
     "text": [
      "Fitting 5 folds for each of 2 candidates, totalling 10 fits\n"
     ]
    }
   ],
   "source": [
    "from sklearn.model_selection import train_test_split, GridSearchCV\n",
    "from sklearn.linear_model import LinearRegression\n",
    "\n",
    "model = LinearRegression()\n",
    "\n",
    "# Grid Search Cross-Validation to find the best hyperparameters\n",
    "grid_search = GridSearchCV(model, param_grid, cv=5, scoring='neg_mean_squared_error', verbose=1)\n",
    "# Perform grid search to find the best hyperparameters\n",
    "grid_search.fit(X, y)\n",
    "\n",
    "best_model = grid_search.best_estimator_"
   ]
  },
  {
   "cell_type": "code",
   "execution_count": 48,
   "id": "d46033e1",
   "metadata": {},
   "outputs": [],
   "source": [
    "# Evaluate the best model on the test set\n",
    "y_pred = best_model.predict(X_test)\n",
    "mse = mean_squared_error(y_test, y_pred)"
   ]
  },
  {
   "cell_type": "code",
   "execution_count": 59,
   "id": "51002dea",
   "metadata": {},
   "outputs": [
    {
     "name": "stdout",
     "output_type": "stream",
     "text": [
      "Mean Squared Error: 207669569.55161273\n"
     ]
    }
   ],
   "source": [
    "from sklearn.model_selection import cross_val_score\n",
    "\n",
    "print(\"Mean Squared Error:\", mse)"
   ]
  },
  {
   "cell_type": "code",
   "execution_count": 58,
   "id": "8a38d4ef",
   "metadata": {},
   "outputs": [
    {
     "name": "stdout",
     "output_type": "stream",
     "text": [
      "Cross-Validation RMSE Scores: [17685.29440001 25685.80843132 10113.05009918 14250.32849889\n",
      " 14037.23877846]\n",
      "Mean Cross-Validation RMSE: 16354.344041573442\n"
     ]
    }
   ],
   "source": [
    "cv_scores = cross_val_score(best_model, X, y, cv=5, scoring='neg_mean_squared_error')\n",
    "cv_rmse_scores = np.sqrt(-cv_scores)\n",
    "print(\"Cross-Validation RMSE Scores:\", cv_rmse_scores)\n",
    "print(\"Mean Cross-Validation RMSE:\", np.mean(cv_rmse_scores))"
   ]
  },
  {
   "cell_type": "code",
   "execution_count": 60,
   "id": "4cbb6c05",
   "metadata": {},
   "outputs": [
    {
     "name": "stdout",
     "output_type": "stream",
     "text": [
      "Mean Squared Error (Best Model): 207669569.55161273\n"
     ]
    }
   ],
   "source": [
    "y_pred = best_model.predict(X_test)\n",
    "mse = mean_squared_error(y_test, y_pred)\n",
    "print(\"Mean Squared Error (Best Model):\", mse)"
   ]
  },
  {
   "cell_type": "code",
   "execution_count": 61,
   "id": "27e39fc8",
   "metadata": {},
   "outputs": [],
   "source": [
    "from sklearn.model_selection import cross_val_predict\n",
    "\n",
    "# Perform cross-validation prediction\n",
    "y_pred_cv = cross_val_predict(model, X, y, cv=5)"
   ]
  },
  {
   "cell_type": "code",
   "execution_count": 62,
   "id": "376de742",
   "metadata": {},
   "outputs": [
    {
     "name": "stdout",
     "output_type": "stream",
     "text": [
      "[ 68062.12831491  52952.80910909 160824.94631286  77839.66223184\n",
      " 180570.61233208  48780.30074153 122797.30643062  60936.78397738\n",
      "  29931.95146898 125978.35235717  66257.40859103 143347.40308753\n",
      "  77223.69016631 121830.53572903  40822.53681333 133353.22722861\n",
      "  80907.65896846 133602.31311051  22589.96518946 171635.13948038\n",
      "  76860.48064979 165738.0626068   51050.11849661  83049.37726877\n",
      " 127679.90532467  43340.14370298 105966.83657368  29759.34013782\n",
      " 147320.66318816  85233.42194253 174086.72877564  51707.35176709\n",
      "  62911.49415366  94834.71375091 177190.22570676  44529.52115401\n",
      "  73186.78311489 134877.46364286  28343.2438944  162697.33259863\n",
      "  80856.32091313 164235.56348937  54678.0074078   78097.56537877\n",
      " 130688.82118561  37160.69414172  64234.78733979 141301.97009477\n",
      " 128619.31686597  29893.69124874 162718.63451963  85780.18101211\n",
      " 102073.53327405 165713.99127991  43636.11265329  89943.89077097\n",
      "  50834.30076417 159448.96305418  52277.95058473  94219.37147806\n",
      " 178775.53408277  51421.26525032 102217.96123537 182630.57716216\n",
      "  35839.54056879 103140.41447744 146489.75341802  54661.24352542\n",
      "  91557.53104394 161368.07460505  74200.54825006  97812.67683613\n",
      " 162719.69968814  47665.90667705 126105.38664344 101643.69643174\n",
      " 174931.11679616  86358.91510087 166713.43813097  44318.96025822\n",
      "  93969.98116268 119204.90087119  35090.74798973 204367.95503442\n",
      "  40882.17803854  97322.31356482  44216.6742894  123198.43831869\n",
      " 183161.8229983   67093.94225578 122143.93861576  49557.58887146\n",
      " 156839.15505331 204703.77305356  74975.80290183 113805.13560883\n",
      " 194793.90592993  39653.71113957 104853.55205101 164838.90042283\n",
      "  58219.79361166  96407.08493461 167174.76702853  68688.05272631\n",
      " 125839.89374774 151898.9790024   45047.66556597  80326.12504967\n",
      " 132451.2813618   43019.0478373  138272.91731592 100255.33867628\n",
      " 179833.31613918  83510.33980696  27602.15258165  83184.3097065\n",
      " 126311.99736088 183598.7568265   46907.75138875 110909.33130654\n",
      " 140605.10675184 204312.89807397  62051.65879182 102629.37897991\n",
      " 155663.19718756  43426.92262947  99893.11327877 154642.63996031\n",
      "  56561.25252304  99393.35168754 173324.82574503  53809.12907151\n",
      " 121730.25298761 197841.21903505  40310.97092536  91419.62272583\n",
      " 171773.13566856  53656.83046182  80922.33848328 134891.98186354\n",
      "  45271.4096976  126955.67550813  68423.06897804 170591.89777796\n",
      "  43203.79215246  88614.45942995 151632.59419619  60619.25449676\n",
      "  97651.94039509 163497.59311997  44193.54465694 110459.45785618\n",
      " 156447.88134464  41091.56903469  99075.00656883 128200.71797543\n",
      "  58215.93987001  90717.48317139 191249.53430167  47068.97620846\n",
      " 100331.2342998  171926.92074598  46559.15292266  82459.69871304\n",
      " 121986.58348213  42273.50558358 108275.72309375 173364.07279036\n",
      "  52477.99571715  99787.56351325 165777.91738474  49535.08371952\n",
      "  96194.77964146 131775.7875212   44745.81913189  82540.09810932\n",
      " 153599.87670125  60729.57413826  91060.15546724 163401.27149693\n",
      "  41223.2057512  107165.78619739 150485.36851615  44160.67201785\n",
      "  79765.16580315 125433.11272831  78792.07112709  85994.56856067\n",
      " 185591.98954509  45342.60856675  99487.04063887 162997.5393476\n",
      "  47001.3496022   79893.09195662 119259.17793315  46506.1804345\n",
      " 102474.00905782 166922.63392006  57954.6418321  102514.96906223\n",
      " 166081.15028872  54991.62998541 134603.69231552  47955.62105854\n",
      "  84744.90758248 147821.73285025  61010.97202524  94089.05875227\n",
      " 166048.27764963  43769.71265854 110254.98902962 152911.27632908\n",
      "  46526.28028357  76937.26100883 128683.1143531   81519.47667606\n",
      "  88701.87426057 185531.68999788  47788.61622874 103078.73969785\n",
      " 165865.64384007  49768.95484931  77125.4867095  124734.08888017\n",
      "  46707.1789252   96328.59854753 175012.79412141  58843.25313094\n",
      " 109414.67854334 169349.27498514  56287.56701732 127772.68627384\n",
      "  47652.55833225  85452.13655536 138332.7600078   61904.47829582\n",
      "  82080.9416517  151638.49741363  58815.61574574 102218.05654584\n",
      " 158090.8354535   48988.02566111  88035.46005419 177868.66434005\n",
      "  64397.02944804  88232.95480941 163856.73194004  58957.83573057\n",
      "  99206.14764978 166993.0090695   41864.09424987 111836.2107898\n",
      " 152428.41128503  47690.41728678  73870.71531396 127766.72777225\n",
      "  80522.44979847  88432.3750074  184872.63136278  49015.66304631\n",
      "  96524.18539612  84978.26794814 175012.79412141  47500.78272256\n",
      " 116286.07043787  37807.3465051   88191.49873161 134088.73907714\n",
      "  67472.07330551  87780.7650858  166478.77935228  53151.28988785\n",
      "  90709.76182626 155466.8625985   53182.96033188  85193.40852815\n",
      " 172101.64913237  61472.0657664   88274.41088721 163870.55063264\n",
      "  59054.56657877  99206.14764978 164095.68277307  37489.51657531\n",
      "  88100.726385   149675.23041618  67209.51814611  73870.71531396\n",
      " 124883.22016841  64732.71112926  87607.08058359 190748.27066849\n",
      "  39138.55076622  82223.16163652 133944.59364955  67347.70507211\n",
      "  99212.10615137 163739.41717603  41919.36902027  93772.9124339\n",
      " 157360.4357748   57579.17929766  85858.67277592 163770.80148297\n",
      "  59731.18656621  85684.3818552  162915.25562816  57526.20277115\n",
      " 105596.95883969 160683.78356985  38692.80523526  85118.03696448\n",
      " 149788.11445654  65916.45475888  74063.49099382 123130.26110841\n",
      "  81354.42733422  86015.48514591  43132.94766425  93627.48613687\n",
      " 139830.76692365  62935.3371766   96296.01453891 178438.5499365\n",
      "  40059.12116058  88469.99023235 146369.94053054  60586.78514319\n",
      "  87915.85391352 168613.64371989  48515.59380645 107850.68474215\n",
      " 155515.10802107  66181.33739144  77203.53815563 160697.02770148\n",
      "  40165.0742136   77426.57118375 149404.03463932  68543.13355648\n",
      "  73904.56141428 145867.75181059  48634.7909911  116085.15991964\n",
      " 151871.78385739  65916.45475888  74063.49099382 154416.93337785\n",
      "  34623.49849186  85697.62598683 151885.02798902  57486.47037626\n",
      "  87915.85391352 168613.64371989  48515.59380645 107850.68474215\n",
      " 155515.10802107  66181.33739144  77203.53815563 160697.02770148\n",
      "  40165.0742136   77426.57118375 149404.03463932  68543.13355648\n",
      "  73904.56141428 145867.75181059  48634.7909911  116085.15991964\n",
      " 151871.78385739  65916.45475888  74063.49099382 148295.76863377\n",
      "  40165.0742136   77426.57118375 149404.03463932]\n"
     ]
    }
   ],
   "source": [
    "print(y_pred_cv)"
   ]
  },
  {
   "cell_type": "markdown",
   "id": "640dea01",
   "metadata": {},
   "source": [
    "### plot after cross-validation"
   ]
  },
  {
   "cell_type": "code",
   "execution_count": 63,
   "id": "0b4313db",
   "metadata": {},
   "outputs": [
    {
     "data": {
      "image/png": "[encoded data removed]",
      "text/plain": [
       "<Figure size 432x288 with 1 Axes>"
      ]
     },
     "metadata": {
      "needs_background": "light"
     },
     "output_type": "display_data"
    }
   ],
   "source": [
    "\n",
    "# Plot actual versus predicted values\n",
    "plt.scatter(y, y_pred_cv)\n",
    "plt.xlabel('Actual Salary')\n",
    "plt.ylabel('Predicted Salary (Cross-Validation)')\n",
    "plt.title('Actual vs Predicted Salary (Cross-Validation)')\n",
    "plt.show()"
   ]
  }
 ],
 "metadata": {
  "kernelspec": {
   "display_name": "Python 3 (ipykernel)",
   "language": "python",
   "name": "python3"
  },
  "language_info": {
   "codemirror_mode": {
    "name": "ipython",
    "version": 3
   },
   "file_extension": ".py",
   "mimetype": "text/x-python",
   "name": "python",
   "nbconvert_exporter": "python",
   "pygments_lexer": "ipython3",
   "version": "3.9.12"
  }
 },
 "nbformat": 4,
 "nbformat_minor": 5
}
