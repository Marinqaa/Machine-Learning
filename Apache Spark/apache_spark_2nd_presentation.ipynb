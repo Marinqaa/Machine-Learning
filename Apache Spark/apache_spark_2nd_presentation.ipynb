{
 "cells": [
  {
   "cell_type": "markdown",
   "id": "db30c431",
   "metadata": {},
   "source": [
    "## data processing using Apache Spark and H2O.ai "
   ]
  },
  {
   "cell_type": "code",
   "execution_count": 1,
   "id": "ecc3591d",
   "metadata": {},
   "outputs": [],
   "source": [
    "from pyspark.sql import SparkSession"
   ]
  },
  {
   "cell_type": "code",
   "execution_count": 3,
   "id": "4bd45373",
   "metadata": {},
   "outputs": [
    {
     "name": "stdout",
     "output_type": "stream",
     "text": [
      "Checking whether there is an H2O instance running at http://localhost:54321. connected.\n"
     ]
    },
    {
     "data": {
      "text/html": [
       "\n",
       "<style>\n",
       "\n",
       "#h2o-table-1.h2o-container {\n",
       "  overflow-x: auto;\n",
       "}\n",
       "#h2o-table-1 .h2o-table {\n",
       "  /* width: 100%; */\n",
       "  margin-top: 1em;\n",
       "  margin-bottom: 1em;\n",
       "}\n",
       "#h2o-table-1 .h2o-table caption {\n",
       "  white-space: nowrap;\n",
       "  caption-side: top;\n",
       "  text-align: left;\n",
       "  /* margin-left: 1em; */\n",
       "  margin: 0;\n",
       "  font-size: larger;\n",
       "}\n",
       "#h2o-table-1 .h2o-table thead {\n",
       "  white-space: nowrap; \n",
       "  position: sticky;\n",
       "  top: 0;\n",
       "  box-shadow: 0 -1px inset;\n",
       "}\n",
       "#h2o-table-1 .h2o-table tbody {\n",
       "  overflow: auto;\n",
       "}\n",
       "#h2o-table-1 .h2o-table th,\n",
       "#h2o-table-1 .h2o-table td {\n",
       "  text-align: right;\n",
       "  /* border: 1px solid; */\n",
       "}\n",
       "#h2o-table-1 .h2o-table tr:nth-child(even) {\n",
       "  /* background: #F5F5F5 */\n",
       "}\n",
       "\n",
       "</style>      \n",
       "<div id=\"h2o-table-1\" class=\"h2o-container\">\n",
       "  <table class=\"h2o-table\">\n",
       "    <caption></caption>\n",
       "    <thead></thead>\n",
       "    <tbody><tr><td>H2O_cluster_uptime:</td>\n",
       "<td>4 hours 56 mins</td></tr>\n",
       "<tr><td>H2O_cluster_timezone:</td>\n",
       "<td>Europe/Warsaw</td></tr>\n",
       "<tr><td>H2O_data_parsing_timezone:</td>\n",
       "<td>UTC</td></tr>\n",
       "<tr><td>H2O_cluster_version:</td>\n",
       "<td>3.46.0.1</td></tr>\n",
       "<tr><td>H2O_cluster_version_age:</td>\n",
       "<td>29 days</td></tr>\n",
       "<tr><td>H2O_cluster_name:</td>\n",
       "<td>H2O_from_python_nurma_o3ma4x</td></tr>\n",
       "<tr><td>H2O_cluster_total_nodes:</td>\n",
       "<td>1</td></tr>\n",
       "<tr><td>H2O_cluster_free_memory:</td>\n",
       "<td>1.883 Gb</td></tr>\n",
       "<tr><td>H2O_cluster_total_cores:</td>\n",
       "<td>4</td></tr>\n",
       "<tr><td>H2O_cluster_allowed_cores:</td>\n",
       "<td>4</td></tr>\n",
       "<tr><td>H2O_cluster_status:</td>\n",
       "<td>locked, healthy</td></tr>\n",
       "<tr><td>H2O_connection_url:</td>\n",
       "<td>http://localhost:54321</td></tr>\n",
       "<tr><td>H2O_connection_proxy:</td>\n",
       "<td>{\"http\": null, \"https\": null}</td></tr>\n",
       "<tr><td>H2O_internal_security:</td>\n",
       "<td>False</td></tr>\n",
       "<tr><td>Python_version:</td>\n",
       "<td>3.9.12 final</td></tr></tbody>\n",
       "  </table>\n",
       "</div>\n"
      ],
      "text/plain": [
       "--------------------------  -----------------------------\n",
       "H2O_cluster_uptime:         4 hours 56 mins\n",
       "H2O_cluster_timezone:       Europe/Warsaw\n",
       "H2O_data_parsing_timezone:  UTC\n",
       "H2O_cluster_version:        3.46.0.1\n",
       "H2O_cluster_version_age:    29 days\n",
       "H2O_cluster_name:           H2O_from_python_nurma_o3ma4x\n",
       "H2O_cluster_total_nodes:    1\n",
       "H2O_cluster_free_memory:    1.883 Gb\n",
       "H2O_cluster_total_cores:    4\n",
       "H2O_cluster_allowed_cores:  4\n",
       "H2O_cluster_status:         locked, healthy\n",
       "H2O_connection_url:         http://localhost:54321\n",
       "H2O_connection_proxy:       {\"http\": null, \"https\": null}\n",
       "H2O_internal_security:      False\n",
       "Python_version:             3.9.12 final\n",
       "--------------------------  -----------------------------"
      ]
     },
     "metadata": {},
     "output_type": "display_data"
    }
   ],
   "source": [
    "import h2o\n",
    "h2o.init()"
   ]
  },
  {
   "cell_type": "markdown",
   "id": "e8702c87",
   "metadata": {},
   "source": [
    "### Data Preparation"
   ]
  },
  {
   "cell_type": "code",
   "execution_count": 4,
   "id": "f38c57a8",
   "metadata": {},
   "outputs": [],
   "source": [
    "spark = SparkSession.builder \\\n",
    "    .appName(\"Spark H2O Integration\") \\\n",
    "    .getOrCreate()"
   ]
  },
  {
   "cell_type": "code",
   "execution_count": 5,
   "id": "8d44e84e",
   "metadata": {},
   "outputs": [],
   "source": [
    "# Load the heart dataset into Spark DataFrame\n",
    "spark_df = spark.read.csv(\"heart.csv\", header=True, inferSchema=True)"
   ]
  },
  {
   "cell_type": "code",
   "execution_count": 6,
   "id": "bf3da4a3",
   "metadata": {},
   "outputs": [
    {
     "name": "stdout",
     "output_type": "stream",
     "text": [
      "+---+---+---+--------+----+---+-------+-------+-----+-------+-----+---+----+------+\n",
      "|age|sex| cp|trestbps|chol|fbs|restecg|thalach|exang|oldpeak|slope| ca|thal|target|\n",
      "+---+---+---+--------+----+---+-------+-------+-----+-------+-----+---+----+------+\n",
      "| 52|  1|  0|     125| 212|  0|      1|    168|    0|    1.0|    2|  2|   3|     0|\n",
      "| 53|  1|  0|     140| 203|  1|      0|    155|    1|    3.1|    0|  0|   3|     0|\n",
      "| 70|  1|  0|     145| 174|  0|      1|    125|    1|    2.6|    0|  0|   3|     0|\n",
      "| 61|  1|  0|     148| 203|  0|      1|    161|    0|    0.0|    2|  1|   3|     0|\n",
      "| 62|  0|  0|     138| 294|  1|      1|    106|    0|    1.9|    1|  3|   2|     0|\n",
      "| 58|  0|  0|     100| 248|  0|      0|    122|    0|    1.0|    1|  0|   2|     1|\n",
      "| 58|  1|  0|     114| 318|  0|      2|    140|    0|    4.4|    0|  3|   1|     0|\n",
      "+---+---+---+--------+----+---+-------+-------+-----+-------+-----+---+----+------+\n",
      "only showing top 7 rows\n",
      "\n"
     ]
    }
   ],
   "source": [
    "spark_df.show(7)"
   ]
  },
  {
   "cell_type": "code",
   "execution_count": 7,
   "id": "966c6e1d",
   "metadata": {},
   "outputs": [
    {
     "data": {
      "text/html": [
       "<div>\n",
       "<style scoped>\n",
       "    .dataframe tbody tr th:only-of-type {\n",
       "        vertical-align: middle;\n",
       "    }\n",
       "\n",
       "    .dataframe tbody tr th {\n",
       "        vertical-align: top;\n",
       "    }\n",
       "\n",
       "    .dataframe thead th {\n",
       "        text-align: right;\n",
       "    }\n",
       "</style>\n",
       "<table border=\"1\" class=\"dataframe\">\n",
       "  <thead>\n",
       "    <tr style=\"text-align: right;\">\n",
       "      <th></th>\n",
       "      <th>age</th>\n",
       "      <th>sex</th>\n",
       "      <th>cp</th>\n",
       "      <th>trestbps</th>\n",
       "      <th>chol</th>\n",
       "      <th>fbs</th>\n",
       "      <th>restecg</th>\n",
       "      <th>thalach</th>\n",
       "      <th>exang</th>\n",
       "      <th>oldpeak</th>\n",
       "      <th>slope</th>\n",
       "      <th>ca</th>\n",
       "      <th>thal</th>\n",
       "      <th>target</th>\n",
       "    </tr>\n",
       "  </thead>\n",
       "  <tbody>\n",
       "    <tr>\n",
       "      <th>0</th>\n",
       "      <td>52</td>\n",
       "      <td>1</td>\n",
       "      <td>0</td>\n",
       "      <td>125</td>\n",
       "      <td>212</td>\n",
       "      <td>0</td>\n",
       "      <td>1</td>\n",
       "      <td>168</td>\n",
       "      <td>0</td>\n",
       "      <td>1.0</td>\n",
       "      <td>2</td>\n",
       "      <td>2</td>\n",
       "      <td>3</td>\n",
       "      <td>0</td>\n",
       "    </tr>\n",
       "    <tr>\n",
       "      <th>1</th>\n",
       "      <td>53</td>\n",
       "      <td>1</td>\n",
       "      <td>0</td>\n",
       "      <td>140</td>\n",
       "      <td>203</td>\n",
       "      <td>1</td>\n",
       "      <td>0</td>\n",
       "      <td>155</td>\n",
       "      <td>1</td>\n",
       "      <td>3.1</td>\n",
       "      <td>0</td>\n",
       "      <td>0</td>\n",
       "      <td>3</td>\n",
       "      <td>0</td>\n",
       "    </tr>\n",
       "    <tr>\n",
       "      <th>2</th>\n",
       "      <td>70</td>\n",
       "      <td>1</td>\n",
       "      <td>0</td>\n",
       "      <td>145</td>\n",
       "      <td>174</td>\n",
       "      <td>0</td>\n",
       "      <td>1</td>\n",
       "      <td>125</td>\n",
       "      <td>1</td>\n",
       "      <td>2.6</td>\n",
       "      <td>0</td>\n",
       "      <td>0</td>\n",
       "      <td>3</td>\n",
       "      <td>0</td>\n",
       "    </tr>\n",
       "    <tr>\n",
       "      <th>3</th>\n",
       "      <td>61</td>\n",
       "      <td>1</td>\n",
       "      <td>0</td>\n",
       "      <td>148</td>\n",
       "      <td>203</td>\n",
       "      <td>0</td>\n",
       "      <td>1</td>\n",
       "      <td>161</td>\n",
       "      <td>0</td>\n",
       "      <td>0.0</td>\n",
       "      <td>2</td>\n",
       "      <td>1</td>\n",
       "      <td>3</td>\n",
       "      <td>0</td>\n",
       "    </tr>\n",
       "    <tr>\n",
       "      <th>4</th>\n",
       "      <td>62</td>\n",
       "      <td>0</td>\n",
       "      <td>0</td>\n",
       "      <td>138</td>\n",
       "      <td>294</td>\n",
       "      <td>1</td>\n",
       "      <td>1</td>\n",
       "      <td>106</td>\n",
       "      <td>0</td>\n",
       "      <td>1.9</td>\n",
       "      <td>1</td>\n",
       "      <td>3</td>\n",
       "      <td>2</td>\n",
       "      <td>0</td>\n",
       "    </tr>\n",
       "    <tr>\n",
       "      <th>5</th>\n",
       "      <td>58</td>\n",
       "      <td>0</td>\n",
       "      <td>0</td>\n",
       "      <td>100</td>\n",
       "      <td>248</td>\n",
       "      <td>0</td>\n",
       "      <td>0</td>\n",
       "      <td>122</td>\n",
       "      <td>0</td>\n",
       "      <td>1.0</td>\n",
       "      <td>1</td>\n",
       "      <td>0</td>\n",
       "      <td>2</td>\n",
       "      <td>1</td>\n",
       "    </tr>\n",
       "    <tr>\n",
       "      <th>6</th>\n",
       "      <td>58</td>\n",
       "      <td>1</td>\n",
       "      <td>0</td>\n",
       "      <td>114</td>\n",
       "      <td>318</td>\n",
       "      <td>0</td>\n",
       "      <td>2</td>\n",
       "      <td>140</td>\n",
       "      <td>0</td>\n",
       "      <td>4.4</td>\n",
       "      <td>0</td>\n",
       "      <td>3</td>\n",
       "      <td>1</td>\n",
       "      <td>0</td>\n",
       "    </tr>\n",
       "  </tbody>\n",
       "</table>\n",
       "</div>"
      ],
      "text/plain": [
       "   age  sex  cp  trestbps  chol  fbs  restecg  thalach  exang  oldpeak  slope  \\\n",
       "0   52    1   0       125   212    0        1      168      0      1.0      2   \n",
       "1   53    1   0       140   203    1        0      155      1      3.1      0   \n",
       "2   70    1   0       145   174    0        1      125      1      2.6      0   \n",
       "3   61    1   0       148   203    0        1      161      0      0.0      2   \n",
       "4   62    0   0       138   294    1        1      106      0      1.9      1   \n",
       "5   58    0   0       100   248    0        0      122      0      1.0      1   \n",
       "6   58    1   0       114   318    0        2      140      0      4.4      0   \n",
       "\n",
       "   ca  thal  target  \n",
       "0   2     3       0  \n",
       "1   0     3       0  \n",
       "2   0     3       0  \n",
       "3   1     3       0  \n",
       "4   3     2       0  \n",
       "5   0     2       1  \n",
       "6   3     1       0  "
      ]
     },
     "execution_count": 7,
     "metadata": {},
     "output_type": "execute_result"
    }
   ],
   "source": [
    "# Convert Spark DataFrame to Pandas DataFrame\n",
    "pandas_df = spark_df.toPandas()\n",
    "pandas_df.head(7)"
   ]
  },
  {
   "cell_type": "code",
   "execution_count": 8,
   "id": "215c025e",
   "metadata": {},
   "outputs": [
    {
     "name": "stdout",
     "output_type": "stream",
     "text": [
      "Parse progress: |████████████████████████████████████████████████████████████████| (done) 100%\n"
     ]
    },
    {
     "data": {
      "text/html": [
       "<table class='dataframe'>\n",
       "<thead>\n",
       "<tr><th style=\"text-align: right;\">  age</th><th style=\"text-align: right;\">  sex</th><th style=\"text-align: right;\">  cp</th><th style=\"text-align: right;\">  trestbps</th><th style=\"text-align: right;\">  chol</th><th style=\"text-align: right;\">  fbs</th><th style=\"text-align: right;\">  restecg</th><th style=\"text-align: right;\">  thalach</th><th style=\"text-align: right;\">  exang</th><th style=\"text-align: right;\">  oldpeak</th><th style=\"text-align: right;\">  slope</th><th style=\"text-align: right;\">  ca</th><th style=\"text-align: right;\">  thal</th><th style=\"text-align: right;\">  target</th></tr>\n",
       "</thead>\n",
       "<tbody>\n",
       "<tr><td style=\"text-align: right;\">   52</td><td style=\"text-align: right;\">    1</td><td style=\"text-align: right;\">   0</td><td style=\"text-align: right;\">       125</td><td style=\"text-align: right;\">   212</td><td style=\"text-align: right;\">    0</td><td style=\"text-align: right;\">        1</td><td style=\"text-align: right;\">      168</td><td style=\"text-align: right;\">      0</td><td style=\"text-align: right;\">      1  </td><td style=\"text-align: right;\">      2</td><td style=\"text-align: right;\">   2</td><td style=\"text-align: right;\">     3</td><td style=\"text-align: right;\">       0</td></tr>\n",
       "<tr><td style=\"text-align: right;\">   53</td><td style=\"text-align: right;\">    1</td><td style=\"text-align: right;\">   0</td><td style=\"text-align: right;\">       140</td><td style=\"text-align: right;\">   203</td><td style=\"text-align: right;\">    1</td><td style=\"text-align: right;\">        0</td><td style=\"text-align: right;\">      155</td><td style=\"text-align: right;\">      1</td><td style=\"text-align: right;\">      3.1</td><td style=\"text-align: right;\">      0</td><td style=\"text-align: right;\">   0</td><td style=\"text-align: right;\">     3</td><td style=\"text-align: right;\">       0</td></tr>\n",
       "<tr><td style=\"text-align: right;\">   70</td><td style=\"text-align: right;\">    1</td><td style=\"text-align: right;\">   0</td><td style=\"text-align: right;\">       145</td><td style=\"text-align: right;\">   174</td><td style=\"text-align: right;\">    0</td><td style=\"text-align: right;\">        1</td><td style=\"text-align: right;\">      125</td><td style=\"text-align: right;\">      1</td><td style=\"text-align: right;\">      2.6</td><td style=\"text-align: right;\">      0</td><td style=\"text-align: right;\">   0</td><td style=\"text-align: right;\">     3</td><td style=\"text-align: right;\">       0</td></tr>\n",
       "<tr><td style=\"text-align: right;\">   61</td><td style=\"text-align: right;\">    1</td><td style=\"text-align: right;\">   0</td><td style=\"text-align: right;\">       148</td><td style=\"text-align: right;\">   203</td><td style=\"text-align: right;\">    0</td><td style=\"text-align: right;\">        1</td><td style=\"text-align: right;\">      161</td><td style=\"text-align: right;\">      0</td><td style=\"text-align: right;\">      0  </td><td style=\"text-align: right;\">      2</td><td style=\"text-align: right;\">   1</td><td style=\"text-align: right;\">     3</td><td style=\"text-align: right;\">       0</td></tr>\n",
       "<tr><td style=\"text-align: right;\">   62</td><td style=\"text-align: right;\">    0</td><td style=\"text-align: right;\">   0</td><td style=\"text-align: right;\">       138</td><td style=\"text-align: right;\">   294</td><td style=\"text-align: right;\">    1</td><td style=\"text-align: right;\">        1</td><td style=\"text-align: right;\">      106</td><td style=\"text-align: right;\">      0</td><td style=\"text-align: right;\">      1.9</td><td style=\"text-align: right;\">      1</td><td style=\"text-align: right;\">   3</td><td style=\"text-align: right;\">     2</td><td style=\"text-align: right;\">       0</td></tr>\n",
       "<tr><td style=\"text-align: right;\">   58</td><td style=\"text-align: right;\">    0</td><td style=\"text-align: right;\">   0</td><td style=\"text-align: right;\">       100</td><td style=\"text-align: right;\">   248</td><td style=\"text-align: right;\">    0</td><td style=\"text-align: right;\">        0</td><td style=\"text-align: right;\">      122</td><td style=\"text-align: right;\">      0</td><td style=\"text-align: right;\">      1  </td><td style=\"text-align: right;\">      1</td><td style=\"text-align: right;\">   0</td><td style=\"text-align: right;\">     2</td><td style=\"text-align: right;\">       1</td></tr>\n",
       "<tr><td style=\"text-align: right;\">   58</td><td style=\"text-align: right;\">    1</td><td style=\"text-align: right;\">   0</td><td style=\"text-align: right;\">       114</td><td style=\"text-align: right;\">   318</td><td style=\"text-align: right;\">    0</td><td style=\"text-align: right;\">        2</td><td style=\"text-align: right;\">      140</td><td style=\"text-align: right;\">      0</td><td style=\"text-align: right;\">      4.4</td><td style=\"text-align: right;\">      0</td><td style=\"text-align: right;\">   3</td><td style=\"text-align: right;\">     1</td><td style=\"text-align: right;\">       0</td></tr>\n",
       "<tr><td style=\"text-align: right;\">   55</td><td style=\"text-align: right;\">    1</td><td style=\"text-align: right;\">   0</td><td style=\"text-align: right;\">       160</td><td style=\"text-align: right;\">   289</td><td style=\"text-align: right;\">    0</td><td style=\"text-align: right;\">        0</td><td style=\"text-align: right;\">      145</td><td style=\"text-align: right;\">      1</td><td style=\"text-align: right;\">      0.8</td><td style=\"text-align: right;\">      1</td><td style=\"text-align: right;\">   1</td><td style=\"text-align: right;\">     3</td><td style=\"text-align: right;\">       0</td></tr>\n",
       "<tr><td style=\"text-align: right;\">   46</td><td style=\"text-align: right;\">    1</td><td style=\"text-align: right;\">   0</td><td style=\"text-align: right;\">       120</td><td style=\"text-align: right;\">   249</td><td style=\"text-align: right;\">    0</td><td style=\"text-align: right;\">        0</td><td style=\"text-align: right;\">      144</td><td style=\"text-align: right;\">      0</td><td style=\"text-align: right;\">      0.8</td><td style=\"text-align: right;\">      2</td><td style=\"text-align: right;\">   0</td><td style=\"text-align: right;\">     3</td><td style=\"text-align: right;\">       0</td></tr>\n",
       "<tr><td style=\"text-align: right;\">   54</td><td style=\"text-align: right;\">    1</td><td style=\"text-align: right;\">   0</td><td style=\"text-align: right;\">       122</td><td style=\"text-align: right;\">   286</td><td style=\"text-align: right;\">    0</td><td style=\"text-align: right;\">        0</td><td style=\"text-align: right;\">      116</td><td style=\"text-align: right;\">      1</td><td style=\"text-align: right;\">      3.2</td><td style=\"text-align: right;\">      1</td><td style=\"text-align: right;\">   2</td><td style=\"text-align: right;\">     2</td><td style=\"text-align: right;\">       0</td></tr>\n",
       "</tbody>\n",
       "</table><pre style='font-size: smaller; margin-bottom: 1em;'>[1025 rows x 14 columns]</pre>"
      ],
      "text/plain": [
       "  age    sex    cp    trestbps    chol    fbs    restecg    thalach    exang    oldpeak    slope    ca    thal    target\n",
       "-----  -----  ----  ----------  ------  -----  ---------  ---------  -------  ---------  -------  ----  ------  --------\n",
       "   52      1     0         125     212      0          1        168        0        1          2     2       3         0\n",
       "   53      1     0         140     203      1          0        155        1        3.1        0     0       3         0\n",
       "   70      1     0         145     174      0          1        125        1        2.6        0     0       3         0\n",
       "   61      1     0         148     203      0          1        161        0        0          2     1       3         0\n",
       "   62      0     0         138     294      1          1        106        0        1.9        1     3       2         0\n",
       "   58      0     0         100     248      0          0        122        0        1          1     0       2         1\n",
       "   58      1     0         114     318      0          2        140        0        4.4        0     3       1         0\n",
       "   55      1     0         160     289      0          0        145        1        0.8        1     1       3         0\n",
       "   46      1     0         120     249      0          0        144        0        0.8        2     0       3         0\n",
       "   54      1     0         122     286      0          0        116        1        3.2        1     2       2         0\n",
       "[1025 rows x 14 columns]\n"
      ]
     },
     "metadata": {},
     "output_type": "display_data"
    }
   ],
   "source": [
    "# Convert Pandas DataFrame to H2O DataFrame\n",
    "h2o_df = h2o.H2OFrame(pandas_df)\n",
    "h2o_df.show()"
   ]
  },
  {
   "cell_type": "markdown",
   "id": "01274947",
   "metadata": {},
   "source": [
    "### Model Training"
   ]
  },
  {
   "cell_type": "code",
   "execution_count": 9,
   "id": "441f16d3",
   "metadata": {},
   "outputs": [],
   "source": [
    "# Split the data into training and testing sets\n",
    "# X_train, X_test, y_train, y_test = train_test_split(features, target_data, test_size=0.2, random_state=42)\n",
    "train_h2o, test_h2o = h2o_df.split_frame(ratios=[0.8], seed=1234)"
   ]
  },
  {
   "cell_type": "code",
   "execution_count": 10,
   "id": "5fb73d8a",
   "metadata": {},
   "outputs": [],
   "source": [
    "# Import necessary libraries\n",
    "from h2o.estimators import H2OGradientBoostingEstimator\n",
    "from h2o.grid.grid_search import H2OGridSearch"
   ]
  },
  {
   "cell_type": "code",
   "execution_count": 12,
   "id": "4d55aefc",
   "metadata": {},
   "outputs": [],
   "source": [
    "# Define the classification algorithm (Gradient Boosting Machine in this case)\n",
    "gbm = H2OGradientBoostingEstimator(seed=1234)\n",
    "\n",
    "# Define hyperparameters grid for tuning\n",
    "hyper_params = {\n",
    "    'ntrees': [50, 100, 150],\n",
    "    'max_depth': [3, 5, 7],\n",
    "    'learn_rate': [0.01, 0.1, 0.2]\n",
    "}"
   ]
  },
  {
   "cell_type": "code",
   "execution_count": 13,
   "id": "005e9646",
   "metadata": {},
   "outputs": [
    {
     "name": "stdout",
     "output_type": "stream",
     "text": [
      "Grid Search Results:\n",
      "gbm Grid Build progress: |███████████████████████████████████████████████████████| (done) 100%\n"
     ]
    },
    {
     "data": {
      "text/html": [
       "\n",
       "<style>\n",
       "\n",
       "#h2o-table-2.h2o-container {\n",
       "  overflow-x: auto;\n",
       "}\n",
       "#h2o-table-2 .h2o-table {\n",
       "  /* width: 100%; */\n",
       "  margin-top: 1em;\n",
       "  margin-bottom: 1em;\n",
       "}\n",
       "#h2o-table-2 .h2o-table caption {\n",
       "  white-space: nowrap;\n",
       "  caption-side: top;\n",
       "  text-align: left;\n",
       "  /* margin-left: 1em; */\n",
       "  margin: 0;\n",
       "  font-size: larger;\n",
       "}\n",
       "#h2o-table-2 .h2o-table thead {\n",
       "  white-space: nowrap; \n",
       "  position: sticky;\n",
       "  top: 0;\n",
       "  box-shadow: 0 -1px inset;\n",
       "}\n",
       "#h2o-table-2 .h2o-table tbody {\n",
       "  overflow: auto;\n",
       "}\n",
       "#h2o-table-2 .h2o-table th,\n",
       "#h2o-table-2 .h2o-table td {\n",
       "  text-align: right;\n",
       "  /* border: 1px solid; */\n",
       "}\n",
       "#h2o-table-2 .h2o-table tr:nth-child(even) {\n",
       "  /* background: #F5F5F5 */\n",
       "}\n",
       "\n",
       "</style>      \n",
       "<div id=\"h2o-table-2\" class=\"h2o-container\">\n",
       "  <table class=\"h2o-table\">\n",
       "    <caption>Hyper-Parameter Search Summary: ordered by increasing residual_deviance</caption>\n",
       "    <thead><tr><th></th>\n",
       "<th>learn_rate</th>\n",
       "<th>max_depth</th>\n",
       "<th>ntrees</th>\n",
       "<th>model_ids</th>\n",
       "<th>residual_deviance</th></tr></thead>\n",
       "    <tbody><tr><td></td>\n",
       "<td>0.2</td>\n",
       "<td>7.0</td>\n",
       "<td>150.0</td>\n",
       "<td>Grid_GBM_py_2_sid_9fa7_model_python_1712864466422_8_model_27</td>\n",
       "<td>0.0000745</td></tr>\n",
       "<tr><td></td>\n",
       "<td>0.2</td>\n",
       "<td>7.0</td>\n",
       "<td>100.0</td>\n",
       "<td>Grid_GBM_py_2_sid_9fa7_model_python_1712864466422_8_model_18</td>\n",
       "<td>0.0002374</td></tr>\n",
       "<tr><td></td>\n",
       "<td>0.2</td>\n",
       "<td>5.0</td>\n",
       "<td>150.0</td>\n",
       "<td>Grid_GBM_py_2_sid_9fa7_model_python_1712864466422_8_model_24</td>\n",
       "<td>0.0003997</td></tr>\n",
       "<tr><td></td>\n",
       "<td>0.1</td>\n",
       "<td>7.0</td>\n",
       "<td>150.0</td>\n",
       "<td>Grid_GBM_py_2_sid_9fa7_model_python_1712864466422_8_model_26</td>\n",
       "<td>0.0005617</td></tr>\n",
       "<tr><td></td>\n",
       "<td>0.1</td>\n",
       "<td>7.0</td>\n",
       "<td>100.0</td>\n",
       "<td>Grid_GBM_py_2_sid_9fa7_model_python_1712864466422_8_model_17</td>\n",
       "<td>0.0013732</td></tr>\n",
       "<tr><td></td>\n",
       "<td>0.2</td>\n",
       "<td>5.0</td>\n",
       "<td>100.0</td>\n",
       "<td>Grid_GBM_py_2_sid_9fa7_model_python_1712864466422_8_model_15</td>\n",
       "<td>0.0013806</td></tr>\n",
       "<tr><td></td>\n",
       "<td>0.2</td>\n",
       "<td>7.0</td>\n",
       "<td>50.0</td>\n",
       "<td>Grid_GBM_py_2_sid_9fa7_model_python_1712864466422_8_model_9</td>\n",
       "<td>0.0014592</td></tr>\n",
       "<tr><td></td>\n",
       "<td>0.1</td>\n",
       "<td>5.0</td>\n",
       "<td>150.0</td>\n",
       "<td>Grid_GBM_py_2_sid_9fa7_model_python_1712864466422_8_model_23</td>\n",
       "<td>0.0030318</td></tr>\n",
       "<tr><td></td>\n",
       "<td>0.1</td>\n",
       "<td>7.0</td>\n",
       "<td>50.0</td>\n",
       "<td>Grid_GBM_py_2_sid_9fa7_model_python_1712864466422_8_model_8</td>\n",
       "<td>0.0045784</td></tr>\n",
       "<tr><td></td>\n",
       "<td>0.2</td>\n",
       "<td>5.0</td>\n",
       "<td>50.0</td>\n",
       "<td>Grid_GBM_py_2_sid_9fa7_model_python_1712864466422_8_model_6</td>\n",
       "<td>0.0052285</td></tr>\n",
       "<tr><td>---</td>\n",
       "<td>---</td>\n",
       "<td>---</td>\n",
       "<td>---</td>\n",
       "<td>---</td>\n",
       "<td>---</td></tr>\n",
       "<tr><td></td>\n",
       "<td>0.2</td>\n",
       "<td>3.0</td>\n",
       "<td>50.0</td>\n",
       "<td>Grid_GBM_py_2_sid_9fa7_model_python_1712864466422_8_model_3</td>\n",
       "<td>0.0386397</td></tr>\n",
       "<tr><td></td>\n",
       "<td>0.01</td>\n",
       "<td>5.0</td>\n",
       "<td>150.0</td>\n",
       "<td>Grid_GBM_py_2_sid_9fa7_model_python_1712864466422_8_model_22</td>\n",
       "<td>0.0489756</td></tr>\n",
       "<tr><td></td>\n",
       "<td>0.1</td>\n",
       "<td>3.0</td>\n",
       "<td>50.0</td>\n",
       "<td>Grid_GBM_py_2_sid_9fa7_model_python_1712864466422_8_model_2</td>\n",
       "<td>0.0538388</td></tr>\n",
       "<tr><td></td>\n",
       "<td>0.01</td>\n",
       "<td>7.0</td>\n",
       "<td>100.0</td>\n",
       "<td>Grid_GBM_py_2_sid_9fa7_model_python_1712864466422_8_model_16</td>\n",
       "<td>0.0628620</td></tr>\n",
       "<tr><td></td>\n",
       "<td>0.01</td>\n",
       "<td>5.0</td>\n",
       "<td>100.0</td>\n",
       "<td>Grid_GBM_py_2_sid_9fa7_model_python_1712864466422_8_model_13</td>\n",
       "<td>0.0738667</td></tr>\n",
       "<tr><td></td>\n",
       "<td>0.01</td>\n",
       "<td>3.0</td>\n",
       "<td>150.0</td>\n",
       "<td>Grid_GBM_py_2_sid_9fa7_model_python_1712864466422_8_model_19</td>\n",
       "<td>0.0974104</td></tr>\n",
       "<tr><td></td>\n",
       "<td>0.01</td>\n",
       "<td>7.0</td>\n",
       "<td>50.0</td>\n",
       "<td>Grid_GBM_py_2_sid_9fa7_model_python_1712864466422_8_model_7</td>\n",
       "<td>0.1166906</td></tr>\n",
       "<tr><td></td>\n",
       "<td>0.01</td>\n",
       "<td>3.0</td>\n",
       "<td>100.0</td>\n",
       "<td>Grid_GBM_py_2_sid_9fa7_model_python_1712864466422_8_model_10</td>\n",
       "<td>0.1189817</td></tr>\n",
       "<tr><td></td>\n",
       "<td>0.01</td>\n",
       "<td>5.0</td>\n",
       "<td>50.0</td>\n",
       "<td>Grid_GBM_py_2_sid_9fa7_model_python_1712864466422_8_model_4</td>\n",
       "<td>0.1271011</td></tr>\n",
       "<tr><td></td>\n",
       "<td>0.01</td>\n",
       "<td>3.0</td>\n",
       "<td>50.0</td>\n",
       "<td>Grid_GBM_py_2_sid_9fa7_model_python_1712864466422_8_model_1</td>\n",
       "<td>0.1593002</td></tr></tbody>\n",
       "  </table>\n",
       "</div>\n",
       "<pre style='font-size: smaller; margin-bottom: 1em;'>[27 rows x 6 columns]</pre>"
      ],
      "text/plain": [
       "Hyper-Parameter Search Summary: ordered by increasing residual_deviance\n",
       "     learn_rate    max_depth    ntrees    model_ids                                                     residual_deviance\n",
       "---  ------------  -----------  --------  ------------------------------------------------------------  ----------------------\n",
       "     0.2           7.0          150.0     Grid_GBM_py_2_sid_9fa7_model_python_1712864466422_8_model_27  7.448325476745342e-05\n",
       "     0.2           7.0          100.0     Grid_GBM_py_2_sid_9fa7_model_python_1712864466422_8_model_18  0.0002373782245992218\n",
       "     0.2           5.0          150.0     Grid_GBM_py_2_sid_9fa7_model_python_1712864466422_8_model_24  0.00039967501806027566\n",
       "     0.1           7.0          150.0     Grid_GBM_py_2_sid_9fa7_model_python_1712864466422_8_model_26  0.0005616514068658388\n",
       "     0.1           7.0          100.0     Grid_GBM_py_2_sid_9fa7_model_python_1712864466422_8_model_17  0.001373231772321781\n",
       "     0.2           5.0          100.0     Grid_GBM_py_2_sid_9fa7_model_python_1712864466422_8_model_15  0.00138058856689418\n",
       "     0.2           7.0          50.0      Grid_GBM_py_2_sid_9fa7_model_python_1712864466422_8_model_9   0.0014591503926528464\n",
       "     0.1           5.0          150.0     Grid_GBM_py_2_sid_9fa7_model_python_1712864466422_8_model_23  0.003031755134889993\n",
       "     0.1           7.0          50.0      Grid_GBM_py_2_sid_9fa7_model_python_1712864466422_8_model_8   0.004578374376518494\n",
       "     0.2           5.0          50.0      Grid_GBM_py_2_sid_9fa7_model_python_1712864466422_8_model_6   0.005228498918438964\n",
       "---  ---           ---          ---       ---                                                           ---\n",
       "     0.2           3.0          50.0      Grid_GBM_py_2_sid_9fa7_model_python_1712864466422_8_model_3   0.038639742996799765\n",
       "     0.01          5.0          150.0     Grid_GBM_py_2_sid_9fa7_model_python_1712864466422_8_model_22  0.04897560812705867\n",
       "     0.1           3.0          50.0      Grid_GBM_py_2_sid_9fa7_model_python_1712864466422_8_model_2   0.05383876216485685\n",
       "     0.01          7.0          100.0     Grid_GBM_py_2_sid_9fa7_model_python_1712864466422_8_model_16  0.06286198482411089\n",
       "     0.01          5.0          100.0     Grid_GBM_py_2_sid_9fa7_model_python_1712864466422_8_model_13  0.07386667343521043\n",
       "     0.01          3.0          150.0     Grid_GBM_py_2_sid_9fa7_model_python_1712864466422_8_model_19  0.09741040828270991\n",
       "     0.01          7.0          50.0      Grid_GBM_py_2_sid_9fa7_model_python_1712864466422_8_model_7   0.1166906409253653\n",
       "     0.01          3.0          100.0     Grid_GBM_py_2_sid_9fa7_model_python_1712864466422_8_model_10  0.11898165144490097\n",
       "     0.01          5.0          50.0      Grid_GBM_py_2_sid_9fa7_model_python_1712864466422_8_model_4   0.12710106663187531\n",
       "     0.01          3.0          50.0      Grid_GBM_py_2_sid_9fa7_model_python_1712864466422_8_model_1   0.15930023893713133\n",
       "[27 rows x 6 columns]\n"
      ]
     },
     "execution_count": 13,
     "metadata": {},
     "output_type": "execute_result"
    }
   ],
   "source": [
    "# Perform grid search with cross-validation to find the best hyperparameters from traingning data\n",
    "print(\"Grid Search Results:\")\n",
    "grid_search = H2OGridSearch(model=gbm, hyper_params=hyper_params)\n",
    "grid_search.train(x=pandas_df.columns[:-1], y=pandas_df.columns[-1], training_frame=train_h2o)"
   ]
  },
  {
   "cell_type": "code",
   "execution_count": 14,
   "id": "992d8a49",
   "metadata": {},
   "outputs": [],
   "source": [
    "# Get the best model from the grid search\n",
    "best_model = grid_search.get_grid()[0]"
   ]
  },
  {
   "cell_type": "code",
   "execution_count": 16,
   "id": "3db5efd1",
   "metadata": {},
   "outputs": [
    {
     "name": "stdout",
     "output_type": "stream",
     "text": [
      "Model Summary: \n",
      "    number_of_trees    number_of_internal_trees    model_size_in_bytes    min_depth    max_depth    mean_depth    min_leaves    max_leaves    mean_leaves\n",
      "--  -----------------  --------------------------  ---------------------  -----------  -----------  ------------  ------------  ------------  -------------\n",
      "    150                150                         50349                  7            7            7             10            49            21.9733\n",
      "ModelMetricsRegression: gbm\n",
      "** Reported on test data. **\n",
      "\n",
      "MSE: 0.00040814970206094785\n",
      "RMSE: 0.020202715215063245\n",
      "MAE: 0.010068608250005301\n",
      "RMSLE: 0.01281587495328416\n",
      "Mean Residual Deviance: 0.00040814970206094785\n"
     ]
    }
   ],
   "source": [
    "print(best_model.summary())\n",
    "\n",
    "print(best_model.model_performance(test_data=test_h2o))"
   ]
  },
  {
   "cell_type": "code",
   "execution_count": 17,
   "id": "932019fd",
   "metadata": {},
   "outputs": [
    {
     "name": "stdout",
     "output_type": "stream",
     "text": [
      "gbm Model Build progress: |██████████████████████████████████████████████████████| (done) 100%\n",
      "Model Summary: \n",
      "    number_of_trees    number_of_internal_trees    model_size_in_bytes    min_depth    max_depth    mean_depth    min_leaves    max_leaves    mean_leaves\n",
      "--  -----------------  --------------------------  ---------------------  -----------  -----------  ------------  ------------  ------------  -------------\n",
      "    50                 50                          15919                  5            5            5             10            30            20.64\n",
      "ModelMetricsRegression: gbm\n",
      "** Reported on train data. **\n",
      "\n",
      "MSE: 0.014094423772357293\n",
      "RMSE: 0.11871993839434593\n",
      "MAE: 0.0752726310388764\n",
      "RMSLE: 0.0886621490665124\n",
      "Mean Residual Deviance: 0.014094423772357293\n"
     ]
    }
   ],
   "source": [
    "import warnings\n",
    "warnings.simplefilter(\"ignore\", RuntimeWarning)\n",
    "# Train the model on the training data and check model performance\n",
    "best_model.train(x=h2o_df.columns[:-1], y=h2o_df.columns[-1], training_frame=train_h2o)\n",
    "\n",
    "print(best_model._model_json['output']['model_summary'])\n",
    "\n",
    "print(best_model._model_json['output']['training_metrics'])"
   ]
  },
  {
   "cell_type": "code",
   "execution_count": 18,
   "id": "e010c4ef",
   "metadata": {},
   "outputs": [
    {
     "name": "stdout",
     "output_type": "stream",
     "text": [
      "\n",
      "Test Data Performance:\n",
      "ModelMetricsRegression: gbm\n",
      "** Reported on test data. **\n",
      "\n",
      "MSE: 0.027682757194495887\n",
      "RMSE: 0.1663813607183686\n",
      "MAE: 0.09791170017583235\n",
      "RMSLE: 0.12134288983168533\n",
      "Mean Residual Deviance: 0.027682757194495887\n"
     ]
    }
   ],
   "source": [
    "#check model performance on test data\n",
    "test_performance = best_model.model_performance(test_data=test_h2o)\n",
    "print(\"\\nTest Data Performance:\")\n",
    "print(test_performance)"
   ]
  },
  {
   "cell_type": "markdown",
   "id": "2be4af55",
   "metadata": {},
   "source": [
    "### Model Evaluation"
   ]
  },
  {
   "cell_type": "code",
   "execution_count": 19,
   "id": "7fdefc32",
   "metadata": {},
   "outputs": [],
   "source": [
    "import matplotlib.pyplot as plt\n",
    "from sklearn.metrics import classification_report, roc_curve, auc\n",
    "from h2o.utils.threading import local_context"
   ]
  },
  {
   "cell_type": "code",
   "execution_count": 21,
   "id": "ab9468f2",
   "metadata": {},
   "outputs": [
    {
     "name": "stdout",
     "output_type": "stream",
     "text": [
      "gbm prediction progress: |███████████████████████████████████████████████████████| (done) 100%\n"
     ]
    }
   ],
   "source": [
    "# Evaluate the model performance on the testing set\n",
    "test_predictions = best_model.predict(test_h2o).as_data_frame()"
   ]
  },
  {
   "cell_type": "code",
   "execution_count": 22,
   "id": "b7b604f4",
   "metadata": {},
   "outputs": [],
   "source": [
    "# Get actual target values from the test set H2O DataFrame\n",
    "actual_values = test_h2o.as_data_frame()['target'].values"
   ]
  },
  {
   "cell_type": "code",
   "execution_count": 24,
   "id": "aebe4f0f",
   "metadata": {},
   "outputs": [],
   "source": [
    "threshold = 0.5\n",
    "\n",
    "test_predictions_binary = (test_predictions['predict'] > threshold).astype(int)"
   ]
  },
  {
   "cell_type": "code",
   "execution_count": 25,
   "id": "3f3278e6",
   "metadata": {},
   "outputs": [
    {
     "name": "stdout",
     "output_type": "stream",
     "text": [
      "\n",
      "Classification Report:\n",
      "              precision    recall  f1-score   support\n",
      "\n",
      "           0       0.97      0.97      0.97       114\n",
      "           1       0.97      0.96      0.96        92\n",
      "\n",
      "    accuracy                           0.97       206\n",
      "   macro avg       0.97      0.97      0.97       206\n",
      "weighted avg       0.97      0.97      0.97       206\n",
      "\n"
     ]
    }
   ],
   "source": [
    "print(\"\\nClassification Report:\")\n",
    "print(classification_report(actual_values, test_predictions_binary))"
   ]
  },
  {
   "cell_type": "code",
   "execution_count": 26,
   "id": "9abfece6",
   "metadata": {},
   "outputs": [],
   "source": [
    "# Plot ROC curve and calculate AUC if applicable\n",
    "false_positive_rate, true_positive_rate, thresholds = roc_curve(test_h2o.as_data_frame()['target'].values, test_predictions)\n",
    "roc_auc = auc(false_positive_rate, true_positive_rate)"
   ]
  },
  {
   "cell_type": "code",
   "execution_count": 27,
   "id": "1e99c1e3",
   "metadata": {},
   "outputs": [
    {
     "data": {
      "image/png": "[encoded data removed]",
      "text/plain": [
       "<Figure size 576x432 with 1 Axes>"
      ]
     },
     "metadata": {
      "needs_background": "light"
     },
     "output_type": "display_data"
    },
    {
     "name": "stdout",
     "output_type": "stream",
     "text": [
      "AUC: 0.9965675057208238\n"
     ]
    }
   ],
   "source": [
    "# Plot ROC curve\n",
    "plt.figure(figsize=(8, 6))\n",
    "plt.plot(false_positive_rate, true_positive_rate, color='darkorange', lw=2, label='ROC curve (area = %0.2f)' % roc_auc)\n",
    "plt.plot([0, 1], [0, 1], color='navy', lw=2, linestyle='--')\n",
    "plt.xlim([0.0, 1.0])\n",
    "plt.ylim([0.0, 1.05])\n",
    "plt.xlabel('False Positive Rate')\n",
    "plt.ylabel('True Positive Rate')\n",
    "plt.title('Receiver Operating Characteristic (ROC) Curve')\n",
    "plt.legend(loc=\"lower right\")\n",
    "plt.show()\n",
    "print(\"AUC:\", roc_auc)"
   ]
  },
  {
   "cell_type": "code",
   "execution_count": 28,
   "id": "28b8d816",
   "metadata": {},
   "outputs": [],
   "source": [
    "# Get feature importance\n",
    "feature_importance = best_model.varimp(use_pandas=True)"
   ]
  },
  {
   "cell_type": "code",
   "execution_count": 29,
   "id": "8e6a92a5",
   "metadata": {},
   "outputs": [
    {
     "data": {
      "image/png": "[encoded data removed]",
      "text/plain": [
       "<Figure size 720x432 with 1 Axes>"
      ]
     },
     "metadata": {
      "needs_background": "light"
     },
     "output_type": "display_data"
    }
   ],
   "source": [
    "# Plot feature importance\n",
    "plt.figure(figsize=(10, 6))\n",
    "plt.barh(feature_importance['variable'], feature_importance['scaled_importance'], color='skyblue')\n",
    "plt.xlabel('Scaled Importance')\n",
    "plt.ylabel('Feature')\n",
    "plt.title('Feature Importance')\n",
    "plt.gca().invert_yaxis()\n",
    "plt.show()"
   ]
  },
  {
   "cell_type": "code",
   "execution_count": null,
   "id": "3d16a347",
   "metadata": {},
   "outputs": [],
   "source": []
  }
 ],
 "metadata": {
  "kernelspec": {
   "display_name": "Python 3 (ipykernel)",
   "language": "python",
   "name": "python3"
  },
  "language_info": {
   "codemirror_mode": {
    "name": "ipython",
    "version": 3
   },
   "file_extension": ".py",
   "mimetype": "text/x-python",
   "name": "python",
   "nbconvert_exporter": "python",
   "pygments_lexer": "ipython3",
   "version": "3.9.12"
  }
 },
 "nbformat": 4,
 "nbformat_minor": 5
}
